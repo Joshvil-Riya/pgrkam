{
 "cells": [
  {
   "cell_type": "code",
   "execution_count": 1,
   "id": "63a2b80a-ba2b-4564-99cb-1069b4536042",
   "metadata": {},
   "outputs": [
    {
     "name": "stdout",
     "output_type": "stream",
     "text": [
      "greeting ['hi', 'how are you?', 'hello', 'hey', 'good morning', 'good afternoon', 'good evening', \"what's up?\", 'yo', 'greetings']\n",
      "thanks ['thank you', 'thanks a lot', 'appreciate it', 'thanks', 'thank you so much', 'much appreciated', 'cheers', 'thanks heaps', 'grateful', 'ty']\n",
      "about_pgrkam ['What is PGRKAM?', 'Tell me about pgrkam.com', 'What does PGRKAM stand for?', 'What is Punjab Ghar Ghar Rozgar?', 'Explain PGRKAM mission', 'What is the purpose of pgrkam.com?', 'Info on Punjab Rozgar Department', 'What is Ghar Ghar Rozgar and Karobar Mission?', 'Describe PGRKAM', 'Background on pgrkam.com', 'What services does PGRKAM offer?', 'Is PGRKAM a government website?', 'When was PGRKAM launched?', 'Who runs pgrkam.com?', 'What is the goal of PGRKAM?', 'Tell me more about Punjab employment mission', 'What does the PGRKAM website do?', 'Overview of PGRKAM', 'PGRKAM details please', 'What is this website about?']\n",
      "registration ['How to register on pgrkam.com?', 'How do I sign up for PGRKAM?', 'Registration process for PGRKAM', 'How to create an account on the website?', 'Sign up for job seekers on pgrkam.com', 'How to join PGRKAM?', 'Steps to register for employment services', 'Can I register online for PGRKAM?', 'How to apply for jobs via PGRKAM?', 'Registration link for pgrkam.com', 'How to become a member of PGRKAM?', 'Guide to signing up on Punjab Rozgar portal', 'Do I need to register to use pgrkam.com?', 'How to get started with PGRKAM?', 'Registration for employers on PGRKAM', 'How to enroll in skill programs?', 'Sign up instructions for pgrkam.com', 'What documents for PGRKAM registration?', 'Online registration for Punjab jobs', 'How to access my PGRKAM account?']\n",
      "job_opportunities ['What jobs are available on pgrkam.com?', 'How to find jobs on PGRKAM?', 'Government jobs on PGRKAM', 'Private jobs via pgrkam.com', 'Job listings on Punjab Rozgar portal', 'What employment opportunities does PGRKAM offer?', 'Search for jobs in Punjab', 'Are there self-employment options?', 'Karobar opportunities on PGRKAM', 'Latest job vacancies on the website', 'How to apply for jobs through PGRKAM?', 'Job fairs on pgrkam.com', 'Wage employment on PGRKAM', 'Find work in Punjab via this site', 'What types of jobs are posted?', 'Unemployment solutions via PGRKAM', 'Job search features on the portal', 'Current openings on pgrkam.com', 'How does PGRKAM help with jobs?', 'Employment generation in Punjab']\n",
      "skill_development ['What skill programs on PGRKAM?', 'Skill development via pgrkam.com', 'Training courses on Punjab Rozgar', 'How to improve employability with PGRKAM?', 'Skill enhancement programs', 'What training does PGRKAM offer?', 'Career counseling on the website', 'Vocational training in Punjab', 'Skill building opportunities', 'Programs to learn new skills', 'How to enroll in training?', 'PGRKAM skill development details', 'Free training on pgrkam.com?', 'What courses are available?', 'Upskilling via Punjab mission', 'Professional development on PGRKAM', 'Training for unemployed youth', 'Skill workshops and events', 'How does PGRKAM help with skills?', 'Education and training section']\n",
      "events ['What events on PGRKAM?', 'Job fairs via pgrkam.com', 'Upcoming events in Punjab Rozgar', 'PGRKAM workshops and seminars', 'Are there job melas?', 'Events for employment', 'Whatâ€™s happening on the portal?', 'Career events on PGRKAM', 'Festivals or fairs for jobs', 'Schedule of PGRKAM events', 'Virtual job fairs', 'Training events details', 'What gatherings does PGRKAM organize?', 'Events for job seekers', 'Punjab employment events', 'How to attend PGRKAM events?', 'Latest news on events', 'Job expos on the website', 'PGRKAM calendar', 'Special programs or events']\n",
      "contact ['How to contact PGRKAM?', 'Contact info for pgrkam.com', 'PGRKAM address', 'Email for Punjab Rozgar', 'Phone number for PGRKAM', 'How to reach out to the department?', 'Support for the website', 'PGRKAM helpline', 'Where is PGRKAM office?', 'Contact details please', 'Query resolution for PGRKAM', 'How to get in touch?', 'Punjab employment contact', 'Office location of PGRKAM', 'Email address for inquiries', 'Support team contact', 'How to complain or suggest?', 'PGRKAM customer service', 'Contact for job issues', 'Reach the mission team']\n"
     ]
    }
   ],
   "source": [
    "import json\n",
    "\n",
    "with open('intents.json') as file:\n",
    "    data = json.load(file)\n",
    "\n",
    "# Example: Inspect intents\n",
    "for intent in data['intents']:\n",
    "    print(intent['tag'], intent['patterns'])\n"
   ]
  },
  {
   "cell_type": "code",
   "execution_count": 2,
   "id": "7a5be010-f7cb-4013-a399-d600027d203e",
   "metadata": {},
   "outputs": [],
   "source": [
    "import tensorflow_hub as hub\n",
    "import numpy as np\n",
    "\n",
    "# Load Universal Sentence Encoder\n",
    "embed = hub.load(\"https://tfhub.dev/google/universal-sentence-encoder/4\")\n",
    "\n",
    "texts = []\n",
    "labels = []\n",
    "\n",
    "for intent in data['intents']:\n",
    "    for pattern in intent['patterns']:\n",
    "        texts.append(pattern)\n",
    "        labels.append(intent['tag'])\n",
    "\n",
    "# Convert text to embeddings\n",
    "X = embed(texts)  # Shape: (num_samples, embedding_dim)\n",
    "\n",
    "# Encode labels\n",
    "from sklearn.preprocessing import LabelEncoder\n",
    "le = LabelEncoder()\n",
    "y = le.fit_transform(labels)\n"
   ]
  },
  {
   "cell_type": "code",
   "execution_count": 3,
   "id": "9a5db1e8-a9dc-45af-950b-8d1e6c3784ba",
   "metadata": {},
   "outputs": [
    {
     "name": "stdout",
     "output_type": "stream",
     "text": [
      "WARNING:tensorflow:Please add `keras.layers.InputLayer` instead of `keras.Input` to Sequential model. `keras.Input` is intended to be used by Functional model.\n"
     ]
    },
    {
     "name": "stderr",
     "output_type": "stream",
     "text": [
      "WARNING:tensorflow:Please add `keras.layers.InputLayer` instead of `keras.Input` to Sequential model. `keras.Input` is intended to be used by Functional model.\n"
     ]
    },
    {
     "name": "stdout",
     "output_type": "stream",
     "text": [
      "Model: \"sequential\"\n",
      "_________________________________________________________________\n",
      "Layer (type)                 Output Shape              Param #   \n",
      "=================================================================\n",
      "dense (Dense)                (None, 256)               131328    \n",
      "_________________________________________________________________\n",
      "dropout (Dropout)            (None, 256)               0         \n",
      "_________________________________________________________________\n",
      "dense_1 (Dense)              (None, 8)                 2056      \n",
      "=================================================================\n",
      "Total params: 133,384\n",
      "Trainable params: 133,384\n",
      "Non-trainable params: 0\n",
      "_________________________________________________________________\n"
     ]
    }
   ],
   "source": [
    "import tensorflow as tf\n",
    "\n",
    "model = tf.keras.Sequential([\n",
    "    tf.keras.layers.Input(shape=(X.shape[1],)),\n",
    "    tf.keras.layers.Dense(256, activation='relu'),\n",
    "    tf.keras.layers.Dropout(0.3),\n",
    "    tf.keras.layers.Dense(len(le.classes_), activation='softmax')\n",
    "])\n",
    "\n",
    "model.compile(optimizer='adam', loss='sparse_categorical_crossentropy', metrics=['accuracy'])\n",
    "model.summary()\n"
   ]
  },
  {
   "cell_type": "code",
   "execution_count": 4,
   "id": "ea620598-dadb-4a04-b0d6-08780ebdf419",
   "metadata": {},
   "outputs": [
    {
     "name": "stdout",
     "output_type": "stream",
     "text": [
      "Epoch 1/50\n",
      "18/18 [==============================] - 1s 3ms/step - loss: 1.9729 - accuracy: 0.4000\n",
      "Epoch 2/50\n",
      "18/18 [==============================] - 0s 2ms/step - loss: 1.6317 - accuracy: 0.8500\n",
      "Epoch 3/50\n",
      "18/18 [==============================] - 0s 3ms/step - loss: 1.2796 - accuracy: 0.8929\n",
      "Epoch 4/50\n",
      "18/18 [==============================] - 0s 3ms/step - loss: 0.9201 - accuracy: 0.9357\n",
      "Epoch 5/50\n",
      "18/18 [==============================] - 0s 3ms/step - loss: 0.6402 - accuracy: 0.9357\n",
      "Epoch 6/50\n",
      "18/18 [==============================] - 0s 2ms/step - loss: 0.4795 - accuracy: 0.9429\n",
      "Epoch 7/50\n",
      "18/18 [==============================] - 0s 3ms/step - loss: 0.3397 - accuracy: 0.9643\n",
      "Epoch 8/50\n",
      "18/18 [==============================] - ETA: 0s - loss: 0.3102 - accuracy: 0.87 - 0s 3ms/step - loss: 0.2834 - accuracy: 0.9643\n",
      "Epoch 9/50\n",
      "18/18 [==============================] - 0s 3ms/step - loss: 0.2351 - accuracy: 0.9786\n",
      "Epoch 10/50\n",
      "18/18 [==============================] - 0s 2ms/step - loss: 0.1797 - accuracy: 0.9929\n",
      "Epoch 11/50\n",
      "18/18 [==============================] - 0s 3ms/step - loss: 0.1405 - accuracy: 0.9929\n",
      "Epoch 12/50\n",
      "18/18 [==============================] - 0s 3ms/step - loss: 0.1276 - accuracy: 0.9857\n",
      "Epoch 13/50\n",
      "18/18 [==============================] - 0s 4ms/step - loss: 0.1206 - accuracy: 0.9786\n",
      "Epoch 14/50\n",
      "18/18 [==============================] - 0s 4ms/step - loss: 0.0930 - accuracy: 0.9929\n",
      "Epoch 15/50\n",
      "18/18 [==============================] - 0s 4ms/step - loss: 0.0894 - accuracy: 0.9929\n",
      "Epoch 16/50\n",
      "18/18 [==============================] - 0s 5ms/step - loss: 0.0778 - accuracy: 0.9929\n",
      "Epoch 17/50\n",
      "18/18 [==============================] - 0s 2ms/step - loss: 0.0673 - accuracy: 1.0000\n",
      "Epoch 18/50\n",
      "18/18 [==============================] - 0s 3ms/step - loss: 0.0583 - accuracy: 1.0000\n",
      "Epoch 19/50\n",
      "18/18 [==============================] - 0s 3ms/step - loss: 0.0630 - accuracy: 1.0000\n",
      "Epoch 20/50\n",
      "18/18 [==============================] - 0s 3ms/step - loss: 0.0504 - accuracy: 1.0000\n",
      "Epoch 21/50\n",
      "18/18 [==============================] - 0s 3ms/step - loss: 0.0446 - accuracy: 1.0000\n",
      "Epoch 22/50\n",
      "18/18 [==============================] - 0s 3ms/step - loss: 0.0437 - accuracy: 1.0000\n",
      "Epoch 23/50\n",
      "18/18 [==============================] - 0s 3ms/step - loss: 0.0358 - accuracy: 1.0000\n",
      "Epoch 24/50\n",
      "18/18 [==============================] - 0s 3ms/step - loss: 0.0410 - accuracy: 0.9929\n",
      "Epoch 25/50\n",
      "18/18 [==============================] - 0s 6ms/step - loss: 0.0304 - accuracy: 1.0000\n",
      "Epoch 26/50\n",
      "18/18 [==============================] - 0s 3ms/step - loss: 0.0440 - accuracy: 0.9857\n",
      "Epoch 27/50\n",
      "18/18 [==============================] - 0s 3ms/step - loss: 0.0299 - accuracy: 1.0000\n",
      "Epoch 28/50\n",
      "18/18 [==============================] - 0s 4ms/step - loss: 0.0301 - accuracy: 1.0000\n",
      "Epoch 29/50\n",
      "18/18 [==============================] - 0s 3ms/step - loss: 0.0252 - accuracy: 1.0000\n",
      "Epoch 30/50\n",
      "18/18 [==============================] - 0s 3ms/step - loss: 0.0218 - accuracy: 1.0000\n",
      "Epoch 31/50\n",
      "18/18 [==============================] - 0s 3ms/step - loss: 0.0209 - accuracy: 1.0000\n",
      "Epoch 32/50\n",
      "18/18 [==============================] - 0s 3ms/step - loss: 0.0298 - accuracy: 0.9929\n",
      "Epoch 33/50\n",
      "18/18 [==============================] - 0s 3ms/step - loss: 0.0200 - accuracy: 1.0000\n",
      "Epoch 34/50\n",
      "18/18 [==============================] - 0s 3ms/step - loss: 0.0166 - accuracy: 1.0000\n",
      "Epoch 35/50\n",
      "18/18 [==============================] - 0s 2ms/step - loss: 0.0207 - accuracy: 1.0000\n",
      "Epoch 36/50\n",
      "18/18 [==============================] - 0s 3ms/step - loss: 0.0154 - accuracy: 1.0000\n",
      "Epoch 37/50\n",
      "18/18 [==============================] - 0s 3ms/step - loss: 0.0156 - accuracy: 1.0000\n",
      "Epoch 38/50\n",
      "18/18 [==============================] - 0s 3ms/step - loss: 0.0148 - accuracy: 1.0000\n",
      "Epoch 39/50\n",
      "18/18 [==============================] - 0s 3ms/step - loss: 0.0149 - accuracy: 1.0000\n",
      "Epoch 40/50\n",
      "18/18 [==============================] - 0s 4ms/step - loss: 0.0175 - accuracy: 1.0000\n",
      "Epoch 41/50\n",
      "18/18 [==============================] - 0s 3ms/step - loss: 0.0138 - accuracy: 1.0000\n",
      "Epoch 42/50\n",
      "18/18 [==============================] - 0s 4ms/step - loss: 0.0141 - accuracy: 1.0000\n",
      "Epoch 43/50\n",
      "18/18 [==============================] - 0s 3ms/step - loss: 0.0139 - accuracy: 1.0000\n",
      "Epoch 44/50\n",
      "18/18 [==============================] - 0s 3ms/step - loss: 0.0118 - accuracy: 1.0000\n",
      "Epoch 45/50\n",
      "18/18 [==============================] - 0s 4ms/step - loss: 0.0116 - accuracy: 1.0000\n",
      "Epoch 46/50\n",
      "18/18 [==============================] - 0s 4ms/step - loss: 0.0147 - accuracy: 0.9929\n",
      "Epoch 47/50\n",
      "18/18 [==============================] - 0s 5ms/step - loss: 0.0121 - accuracy: 1.0000\n",
      "Epoch 48/50\n",
      "18/18 [==============================] - 0s 4ms/step - loss: 0.0097 - accuracy: 1.0000\n",
      "Epoch 49/50\n",
      "18/18 [==============================] - 0s 4ms/step - loss: 0.0078 - accuracy: 1.0000\n",
      "Epoch 50/50\n",
      "18/18 [==============================] - 0s 4ms/step - loss: 0.0081 - accuracy: 1.0000\n"
     ]
    }
   ],
   "source": [
    "history = model.fit(X, y, epochs=50, batch_size=8)\n"
   ]
  },
  {
   "cell_type": "code",
   "execution_count": 5,
   "id": "eb7d686f-4cca-488c-8c0d-416979e82a17",
   "metadata": {},
   "outputs": [
    {
     "name": "stdout",
     "output_type": "stream",
     "text": [
      "INFO:tensorflow:Assets written to: chatbot_model_transfer\\assets\n"
     ]
    },
    {
     "name": "stderr",
     "output_type": "stream",
     "text": [
      "INFO:tensorflow:Assets written to: chatbot_model_transfer\\assets\n"
     ]
    }
   ],
   "source": [
    "model.save(\"chatbot_model_transfer\")\n"
   ]
  },
  {
   "cell_type": "code",
   "execution_count": 6,
   "id": "9cafc83f-aacb-41b2-a57f-9e8d3fe98448",
   "metadata": {},
   "outputs": [
    {
     "name": "stdout",
     "output_type": "stream",
     "text": [
      "greeting\n"
     ]
    }
   ],
   "source": [
    "def predict_class(text):\n",
    "    vec = embed([text])\n",
    "    pred = model.predict(vec)\n",
    "    tag = le.inverse_transform([np.argmax(pred)])\n",
    "    return tag[0]\n",
    "\n",
    "# Example usage\n",
    "print(predict_class(\"Hello, how are you?\"))\n"
   ]
  },
  {
   "cell_type": "code",
   "execution_count": 7,
   "id": "2178c717-3840-4d56-8a70-2ceae244a20f",
   "metadata": {},
   "outputs": [
    {
     "name": "stdout",
     "output_type": "stream",
     "text": [
      "greeting\n"
     ]
    }
   ],
   "source": [
    "def predict_class(text):\n",
    "    vec = embed([text])\n",
    "    pred = model.predict(vec)\n",
    "    tag = le.inverse_transform([np.argmax(pred)])\n",
    "    return tag[0]\n",
    "\n",
    "# Example usage\n",
    "print(predict_class(\"Hello, how are you what are you doing?\"))\n"
   ]
  },
  {
   "cell_type": "code",
   "execution_count": null,
   "id": "e88155c8-f58a-4b66-bae9-7d52f7319753",
   "metadata": {},
   "outputs": [],
   "source": []
  },
  {
   "cell_type": "code",
   "execution_count": null,
   "id": "8237dd72-a2b6-4250-b5d7-0284a2d1c6b3",
   "metadata": {},
   "outputs": [],
   "source": []
  },
  {
   "cell_type": "markdown",
   "id": "0f9daf16-a10d-4f60-a114-0e6d90acb015",
   "metadata": {},
   "source": []
  },
  {
   "cell_type": "code",
   "execution_count": null,
   "id": "26905cf8-e63c-4606-b47e-07eb18aa1603",
   "metadata": {},
   "outputs": [],
   "source": []
  },
  {
   "cell_type": "code",
   "execution_count": null,
   "id": "e028984a-ab54-4247-979a-9d109d31d011",
   "metadata": {},
   "outputs": [],
   "source": []
  },
  {
   "cell_type": "code",
   "execution_count": null,
   "id": "46fdf958-5055-4084-8a5d-3279249cea9c",
   "metadata": {},
   "outputs": [],
   "source": []
  },
  {
   "cell_type": "raw",
   "id": "67e9758c-5008-4486-9fe2-4076042f8e0c",
   "metadata": {},
   "source": []
  },
  {
   "cell_type": "code",
   "execution_count": null,
   "id": "10074e39-664f-472c-ac5a-09e1964b5942",
   "metadata": {},
   "outputs": [],
   "source": []
  },
  {
   "cell_type": "raw",
   "id": "c730a42e-5e56-46ab-90c3-e09d5a421e3d",
   "metadata": {},
   "source": []
  },
  {
   "cell_type": "code",
   "execution_count": null,
   "id": "0541e639-bb0a-42cb-bab6-bc75ef983e11",
   "metadata": {},
   "outputs": [],
   "source": []
  },
  {
   "cell_type": "code",
   "execution_count": 8,
   "id": "db0cb785-02d2-4ed9-a9fa-7f1c53979ae5",
   "metadata": {},
   "outputs": [
    {
     "name": "stdout",
     "output_type": "stream",
     "text": [
      "Chatbot is ready! Type 'quit' to exit.\n"
     ]
    },
    {
     "name": "stdin",
     "output_type": "stream",
     "text": [
      "You:  hi\n"
     ]
    },
    {
     "name": "stdout",
     "output_type": "stream",
     "text": [
      "Chatbot: Hello, hope you're doing well. What would you like to know about the website?\n"
     ]
    },
    {
     "name": "stdin",
     "output_type": "stream",
     "text": [
      "You:  nothing\n"
     ]
    },
    {
     "name": "stdout",
     "output_type": "stream",
     "text": [
      "Chatbot: Hello, hope you're doing well. What would you like to know about the website?\n"
     ]
    },
    {
     "name": "stdin",
     "output_type": "stream",
     "text": [
      "You:  i wnt etils of pg wesite in \n"
     ]
    },
    {
     "name": "stdout",
     "output_type": "stream",
     "text": [
      "Chatbot: PGRKAM stands for Punjab Ghar Ghar Rozgar and Karobar Mission, a Punjab Government initiative launched on October 3, 2018, by the Department of Employment Generation and Training to address unemployment by facilitating wage and self-employment.\n"
     ]
    },
    {
     "ename": "KeyboardInterrupt",
     "evalue": "Interrupted by user",
     "output_type": "error",
     "traceback": [
      "\u001b[1;31m---------------------------------------------------------------------------\u001b[0m",
      "\u001b[1;31mKeyboardInterrupt\u001b[0m                         Traceback (most recent call last)",
      "\u001b[1;32m~\\AppData\\Local\\Temp\\ipykernel_10916\\2370694908.py\u001b[0m in \u001b[0;36m<module>\u001b[1;34m\u001b[0m\n\u001b[0;32m     40\u001b[0m \u001b[1;33m\u001b[0m\u001b[0m\n\u001b[0;32m     41\u001b[0m \u001b[1;31m# --------- Run Chatbot ---------\u001b[0m\u001b[1;33m\u001b[0m\u001b[1;33m\u001b[0m\u001b[1;33m\u001b[0m\u001b[0m\n\u001b[1;32m---> 42\u001b[1;33m \u001b[0mchat_with_pgrkam\u001b[0m\u001b[1;33m(\u001b[0m\u001b[1;33m)\u001b[0m\u001b[1;33m\u001b[0m\u001b[1;33m\u001b[0m\u001b[0m\n\u001b[0m",
      "\u001b[1;32m~\\AppData\\Local\\Temp\\ipykernel_10916\\2370694908.py\u001b[0m in \u001b[0;36mchat_with_pgrkam\u001b[1;34m()\u001b[0m\n\u001b[0;32m     21\u001b[0m \u001b[1;33m\u001b[0m\u001b[0m\n\u001b[0;32m     22\u001b[0m     \u001b[1;32mwhile\u001b[0m \u001b[1;32mTrue\u001b[0m\u001b[1;33m:\u001b[0m\u001b[1;33m\u001b[0m\u001b[1;33m\u001b[0m\u001b[0m\n\u001b[1;32m---> 23\u001b[1;33m         \u001b[0muser_input\u001b[0m \u001b[1;33m=\u001b[0m \u001b[0minput\u001b[0m\u001b[1;33m(\u001b[0m\u001b[1;34m\"You: \"\u001b[0m\u001b[1;33m)\u001b[0m\u001b[1;33m\u001b[0m\u001b[1;33m\u001b[0m\u001b[0m\n\u001b[0m\u001b[0;32m     24\u001b[0m         \u001b[1;32mif\u001b[0m \u001b[0muser_input\u001b[0m\u001b[1;33m.\u001b[0m\u001b[0mlower\u001b[0m\u001b[1;33m(\u001b[0m\u001b[1;33m)\u001b[0m \u001b[1;32min\u001b[0m \u001b[1;33m[\u001b[0m\u001b[1;34m\"quit\"\u001b[0m\u001b[1;33m,\u001b[0m \u001b[1;34m\"exit\"\u001b[0m\u001b[1;33m]\u001b[0m\u001b[1;33m:\u001b[0m\u001b[1;33m\u001b[0m\u001b[1;33m\u001b[0m\u001b[0m\n\u001b[0;32m     25\u001b[0m             \u001b[0mprint\u001b[0m\u001b[1;33m(\u001b[0m\u001b[1;34m\"Chatbot: Goodbye!\"\u001b[0m\u001b[1;33m)\u001b[0m\u001b[1;33m\u001b[0m\u001b[1;33m\u001b[0m\u001b[0m\n",
      "\u001b[1;32m~\\anaconda3\\envs\\agri\\lib\\site-packages\\ipykernel\\kernelbase.py\u001b[0m in \u001b[0;36mraw_input\u001b[1;34m(self, prompt)\u001b[0m\n\u001b[0;32m   1179\u001b[0m             \u001b[0mself\u001b[0m\u001b[1;33m.\u001b[0m\u001b[0m_parent_ident\u001b[0m\u001b[1;33m[\u001b[0m\u001b[1;34m\"shell\"\u001b[0m\u001b[1;33m]\u001b[0m\u001b[1;33m,\u001b[0m\u001b[1;33m\u001b[0m\u001b[1;33m\u001b[0m\u001b[0m\n\u001b[0;32m   1180\u001b[0m             \u001b[0mself\u001b[0m\u001b[1;33m.\u001b[0m\u001b[0mget_parent\u001b[0m\u001b[1;33m(\u001b[0m\u001b[1;34m\"shell\"\u001b[0m\u001b[1;33m)\u001b[0m\u001b[1;33m,\u001b[0m\u001b[1;33m\u001b[0m\u001b[1;33m\u001b[0m\u001b[0m\n\u001b[1;32m-> 1181\u001b[1;33m             \u001b[0mpassword\u001b[0m\u001b[1;33m=\u001b[0m\u001b[1;32mFalse\u001b[0m\u001b[1;33m,\u001b[0m\u001b[1;33m\u001b[0m\u001b[1;33m\u001b[0m\u001b[0m\n\u001b[0m\u001b[0;32m   1182\u001b[0m         )\n\u001b[0;32m   1183\u001b[0m \u001b[1;33m\u001b[0m\u001b[0m\n",
      "\u001b[1;32m~\\anaconda3\\envs\\agri\\lib\\site-packages\\ipykernel\\kernelbase.py\u001b[0m in \u001b[0;36m_input_request\u001b[1;34m(self, prompt, ident, parent, password)\u001b[0m\n\u001b[0;32m   1217\u001b[0m             \u001b[1;32mexcept\u001b[0m \u001b[0mKeyboardInterrupt\u001b[0m\u001b[1;33m:\u001b[0m\u001b[1;33m\u001b[0m\u001b[1;33m\u001b[0m\u001b[0m\n\u001b[0;32m   1218\u001b[0m                 \u001b[1;31m# re-raise KeyboardInterrupt, to truncate traceback\u001b[0m\u001b[1;33m\u001b[0m\u001b[1;33m\u001b[0m\u001b[1;33m\u001b[0m\u001b[0m\n\u001b[1;32m-> 1219\u001b[1;33m                 \u001b[1;32mraise\u001b[0m \u001b[0mKeyboardInterrupt\u001b[0m\u001b[1;33m(\u001b[0m\u001b[1;34m\"Interrupted by user\"\u001b[0m\u001b[1;33m)\u001b[0m \u001b[1;32mfrom\u001b[0m \u001b[1;32mNone\u001b[0m\u001b[1;33m\u001b[0m\u001b[1;33m\u001b[0m\u001b[0m\n\u001b[0m\u001b[0;32m   1220\u001b[0m             \u001b[1;32mexcept\u001b[0m \u001b[0mException\u001b[0m\u001b[1;33m:\u001b[0m\u001b[1;33m\u001b[0m\u001b[1;33m\u001b[0m\u001b[0m\n\u001b[0;32m   1221\u001b[0m                 \u001b[0mself\u001b[0m\u001b[1;33m.\u001b[0m\u001b[0mlog\u001b[0m\u001b[1;33m.\u001b[0m\u001b[0mwarning\u001b[0m\u001b[1;33m(\u001b[0m\u001b[1;34m\"Invalid Message:\"\u001b[0m\u001b[1;33m,\u001b[0m \u001b[0mexc_info\u001b[0m\u001b[1;33m=\u001b[0m\u001b[1;32mTrue\u001b[0m\u001b[1;33m)\u001b[0m\u001b[1;33m\u001b[0m\u001b[1;33m\u001b[0m\u001b[0m\n",
      "\u001b[1;31mKeyboardInterrupt\u001b[0m: Interrupted by user"
     ]
    }
   ],
   "source": [
    "import tensorflow as tf\n",
    "import tensorflow_hub as hub\n",
    "import numpy as np\n",
    "import json\n",
    "from sklearn.preprocessing import LabelEncoder\n",
    "\n",
    "# --------- Load once globally ---------\n",
    "model = tf.keras.models.load_model(\"chatbot_model_transfer\", compile=False)\n",
    "embed = hub.load(\"https://tfhub.dev/google/universal-sentence-encoder/4\")\n",
    "\n",
    "with open(\"intents.json\") as file:\n",
    "    data = json.load(file)\n",
    "\n",
    "labels = [intent['tag'] for intent in data['intents']]\n",
    "le = LabelEncoder()\n",
    "le.fit(labels)\n",
    "\n",
    "# --------- Chat Function ---------\n",
    "def chat_with_pgrkam():\n",
    "    print(\"Chatbot is ready! Type 'quit' to exit.\")\n",
    "    \n",
    "    while True:\n",
    "        user_input = input(\"You: \")\n",
    "        if user_input.lower() in [\"quit\", \"exit\"]:\n",
    "            print(\"Chatbot: Goodbye!\")\n",
    "            break\n",
    "        \n",
    "        # Convert input to embedding and predict\n",
    "        vec = embed([user_input])\n",
    "        pred = model.predict(vec)\n",
    "        intent_tag = le.inverse_transform([np.argmax(pred)])[0]\n",
    "        \n",
    "        # Select a random response for the intent\n",
    "        for intent in data['intents']:\n",
    "            if intent['tag'] == intent_tag:\n",
    "                response = np.random.choice(intent['responses'])\n",
    "                break\n",
    "        \n",
    "        print(f\"Chatbot: {response}\")\n",
    "\n",
    "# --------- Run Chatbot ---------\n",
    "chat_with_pgrkam()"
   ]
  },
  {
   "cell_type": "code",
   "execution_count": 10,
   "id": "2e96bab5-9c33-4c10-b78e-855357c95e59",
   "metadata": {},
   "outputs": [
    {
     "name": "stdout",
     "output_type": "stream",
     "text": [
      "Chatbot: PGRKAM is a government mission to tackle unemployment in Punjab through job fairs, skill enhancement, and career guidance.\n"
     ]
    }
   ],
   "source": [
    "import tensorflow as tf\n",
    "import tensorflow_hub as hub\n",
    "import numpy as np\n",
    "import json\n",
    "from sklearn.preprocessing import LabelEncoder\n",
    "\n",
    "# --------- Load once globally ---------\n",
    "model = tf.keras.models.load_model(\"chatbot_model_transfer\", compile=False)\n",
    "embed = hub.load(\"https://tfhub.dev/google/universal-sentence-encoder/4\")\n",
    "\n",
    "with open(\"intents.json\") as file:\n",
    "    data = json.load(file)\n",
    "\n",
    "labels = [intent['tag'] for intent in data['intents']]\n",
    "le = LabelEncoder()\n",
    "le.fit(labels)\n",
    "\n",
    "# --------- Function to get chatbot response ---------\n",
    "def get_chatbot_response(sentence):\n",
    "    # Convert sentence to embedding\n",
    "    vec = embed([sentence])\n",
    "    \n",
    "    # Predict intent\n",
    "    pred = model.predict(vec)\n",
    "    intent_tag = le.inverse_transform([np.argmax(pred)])[0]\n",
    "    \n",
    "    # Select a random response\n",
    "    for intent in data['intents']:\n",
    "        if intent['tag'] == intent_tag:\n",
    "            response = np.random.choice(intent['responses'])\n",
    "            break\n",
    "    return response\n",
    "\n",
    "# --------- Example usage ---------\n",
    "sentence = \"i want to know abourtt the pgrkam website\"\n",
    "response = get_chatbot_response(sentence)\n",
    "print(\"Chatbot:\", response)\n"
   ]
  },
  {
   "cell_type": "code",
   "execution_count": null,
   "id": "0a34899a-359b-4844-a495-976ed32e1fa5",
   "metadata": {},
   "outputs": [],
   "source": []
  }
 ],
 "metadata": {
  "kernelspec": {
   "display_name": "agri",
   "language": "python",
   "name": "agri"
  },
  "language_info": {
   "codemirror_mode": {
    "name": "ipython",
    "version": 3
   },
   "file_extension": ".py",
   "mimetype": "text/x-python",
   "name": "python",
   "nbconvert_exporter": "python",
   "pygments_lexer": "ipython3",
   "version": "3.7.1"
  }
 },
 "nbformat": 4,
 "nbformat_minor": 5
}
